{
  "nbformat": 4,
  "nbformat_minor": 0,
  "metadata": {
    "colab": {
      "provenance": [],
      "authorship_tag": "ABX9TyNBio3doqaQFleuJREQX09F",
      "include_colab_link": true
    },
    "kernelspec": {
      "name": "python3",
      "display_name": "Python 3"
    },
    "language_info": {
      "name": "python"
    }
  },
  "cells": [
    {
      "cell_type": "markdown",
      "metadata": {
        "id": "view-in-github",
        "colab_type": "text"
      },
      "source": [
        "<a href=\"https://colab.research.google.com/github/athardolphin/projections/blob/main/HOM(vA).ipynb\" target=\"_parent\"><img src=\"https://colab.research.google.com/assets/colab-badge.svg\" alt=\"Open In Colab\"/></a>"
      ]
    },
    {
      "cell_type": "markdown",
      "source": [
        "This program is the copy of the notebook RSOforSPCAD03, here I am going to implement the same formullas for the fine tuning of RSO for Punjab.\n",
        "\n",
        "\n",
        "this program aucceaafuly computes the results from this page of EPSG\n",
        "\n",
        "https://epsg.io/9812-method Hotine Oblique Mercator (variant A)\n"
      ],
      "metadata": {
        "id": "S3cWmmm5X9dO"
      }
    },
    {
      "cell_type": "code",
      "execution_count": 29,
      "metadata": {
        "id": "teNogetFWmOl"
      },
      "outputs": [],
      "source": [
        "for name in dir():\n",
        "    if not name.startswith('_'):\n",
        "        del globals()[name]\n",
        "import numpy as np\n",
        "import math\n",
        "\n",
        "sin,cos,sqrt,pi = np.sin, np.cos,np.sqrt,np.pi\n",
        "asin,  atan2, tan = np.arcsin,np.arctan2, np.tan\n",
        "\n",
        "sin, cos, sqrt, log , exp= np.sin, np.cos, np.sqrt, np.log, np.exp\n",
        "asin, atan2, atan, tan, copysign = np.arcsin, np.arctan2, np.arctan, np.tan, np.copysign\n",
        "rad, deg = np.radians, np.degrees"
      ]
    },
    {
      "cell_type": "code",
      "source": [
        "def rad_to_dms(rad):\n",
        "    deg_total = np.degrees(rad)\n",
        "    degrees = int(deg_total)\n",
        "    minutes_total = abs(deg_total - degrees) * 60\n",
        "    minutes = int(minutes_total)\n",
        "    seconds = (minutes_total - minutes) * 60\n",
        "    return degrees, minutes, int(seconds)"
      ],
      "metadata": {
        "id": "0vbNIpnRbURe"
      },
      "execution_count": 30,
      "outputs": []
    },
    {
      "cell_type": "code",
      "source": [
        "def basic(Pc, Lc, Ac, k0, e, a):\n",
        "    e2 = e**2\n",
        "\n",
        "    # Compute B\n",
        "    cos_phi0_4 = cos(Pc)**4\n",
        "    B = sqrt(1 + (e2 * cos_phi0_4) / (1 - e2))\n",
        "\n",
        "    # Compute A\n",
        "    sqrt_1_e2 = sqrt(1 - e2)\n",
        "    denom = 1 - e2 * sin(Pc)**2\n",
        "    A = (a * B * k0 * sqrt_1_e2) / denom\n",
        "\n",
        "    # Compute t0 (inline)\n",
        "    top = tan(pi / 4 - Pc / 2)\n",
        "    bottom = ((1 - e * sin(Pc)) / (1 + e * sin(Pc)))**(e / 2)\n",
        "    t0 = top / bottom\n",
        "\n",
        "    # Compute D\n",
        "    D = (B * sqrt_1_e2) / (cos(Pc) * sqrt(1 - e2 * sin(Pc)**2))\n",
        "\n",
        "    # Compute H (same as E)\n",
        "    H = (D + sqrt(D**2 - 1)) * t0**B\n",
        "\n",
        "    # Compute F and G\n",
        "    F = D + sqrt(D**2 - 1)\n",
        "    G = (F - 1 / F) / 2\n",
        "\n",
        "    # Compute gamma_0\n",
        "    g0 =  asin(sin(Ac) / D)\n",
        "    # print((G * tan(g0)),\"Gtan\")\n",
        "    # Compute lam0\n",
        "    lam0 = Lc - asin(G * tan(g0)) / B\n",
        "\n",
        "    # Compute uc\n",
        "    Dsq = D * D\n",
        "    sqrt_term = sqrt(Dsq - 1)\n",
        "\n",
        "    atan_term = atan2(sqrt_term, cos(Ac))\n",
        "    sign_latc = math.copysign(1.0, Pc) if Pc != 0 else 0.0\n",
        "    uc = (A / B) * atan_term * sign_latc\n",
        "    vc = 0\n",
        "    # Print all variables\n",
        "    # print(\"B =\", B)\n",
        "    # print(\"A =\", A)\n",
        "    # print(\"t0 =\", t0)\n",
        "    # print(\"D =\", D)\n",
        "    # print(\"H =\", H)\n",
        "    # print(\"F =\", F)\n",
        "    # print(\"G =\", G)\n",
        "    # print(\"gamma_0 [rad] =\", g0)\n",
        "    # print(\"gamma_0 [deg] =\", np.degrees(g0))\n",
        "    # print(\"lam0 [rad] =\", lam0)\n",
        "    # print(\"lam0 [deg] =\", np.degrees(lam0))\n",
        "    # print(\"uc =\", uc)\n",
        "\n",
        "    return B, A, t0, D, H, F, G, g0, lam0, uc\n"
      ],
      "metadata": {
        "id": "eYJUPR6Bn9yQ"
      },
      "execution_count": 31,
      "outputs": []
    },
    {
      "cell_type": "code",
      "source": [
        "def fConst(x0,y0,e,A,B,H, P, L,g0,L0):\n",
        "    t = tan(pi / 4 - P / 2) / ((1 - e * sin(P)) / (1 + e * sin(P))) ** (e / 2)\n",
        "    Q = H / (t ** B)\n",
        "    S = (Q - 1 / Q) / 2\n",
        "    T = (Q + 1 / Q) / 2\n",
        "    V = sin(B * (L - L0))\n",
        "    U = (-V * cos(g0) + S * sin(g0)) / T\n",
        "    v = (A * log((1 - U) / (1 + U))) / (2 * B)\n",
        "\n",
        "\n",
        "    u = (A / B) * atan2(S * cos(g0) + V * sin(g0) , cos(B * (L - L0)))\n",
        "    k = (A * cos(B * u / A) * sqrt(1 - e2 * sin(P)**2)) / (a * cos(P) * cos(B * (L - L0)))\n",
        "    # x and y (Easting and Northing)\n",
        "    x = v * cos(g0) + u * sin(g0) + x0\n",
        "    y = u * cos(g0) - v * sin(g0) + y0\n",
        "    # print('t', t)\n",
        "    # print('Q', Q)\n",
        "    # print('S', S)\n",
        "    # print('T', T)\n",
        "    # print('V', V)\n",
        "    # print('U', U)\n",
        "    # print('v', v)\n",
        "    # print('u', u)\n",
        "    # print('k', k)\n",
        "    print('x', x)\n",
        "    print('y', y)\n",
        "    return x,y,t,Q,S,T,V,U"
      ],
      "metadata": {
        "id": "AD9x83cHOuRa"
      },
      "execution_count": 35,
      "outputs": []
    },
    {
      "cell_type": "code",
      "source": [
        "def rConst(E,N,Ec,Nc,g0, L0, A, B, H, e):\n",
        "    v_ = (E - Ec) * cos(g0) - (N - Nc) * sin(g0)\n",
        "    u_ = (N - Nc) * cos(g0) + (E - Ec) * sin(g0)\n",
        "\n",
        "    Q_ = exp(-B * v_ / A)\n",
        "    S_ = 0.5 * (Q_ - 1 / Q_)\n",
        "    T_ = 0.5 * (Q_ + 1 / Q_)\n",
        "    V_ = sin(B * u_ / A)\n",
        "    U_ = (V_ * cos(g0) + S_ *sin(g0)) / T_\n",
        "\n",
        "    # Step 3: Compute t’\n",
        "    t_ = (H / sqrt((1 + U_) / (1 - U_)))**(1 / B)\n",
        "\n",
        "    # Step 4: Compute conformal latitude chi\n",
        "    chi = pi / 2 - 2 * atan(t_)\n",
        "\n",
        "    # Step 5: Compute geographic latitude using series expansion\n",
        "    e2 = e * e\n",
        "    e4 = e2 * e2\n",
        "    e6 = e4 * e2\n",
        "    e8 = e4 * e4\n",
        "\n",
        "    lat = chi \\\n",
        "        + sin(2 * chi) * (e2 / 2 + 5 * e4 / 24 + e6 / 12 + 13 * e8 / 360) \\\n",
        "        + sin(4 * chi) * (7 * e4 / 48 + 29 * e6 / 240 + 811 * e8 / 11520) \\\n",
        "        + sin(6 * chi) * (7 * e6 / 120 + 81 * e8 / 1120) \\\n",
        "        + sin(8 * chi) * (4279 * e8 / 161280)\n",
        "\n",
        "    # Step 6: Compute longitude\n",
        "\n",
        "    lon = L0 - atan2(S_ * cos(g0) - V_ * sin(g0) , cos(B * u_ / A)) / B\n",
        "\n",
        "    # print(\"L0  =\", deg(L0))\n",
        "    # print(\"v'  =\", v_)\n",
        "    # print(\"u'  =\", u_)\n",
        "    # print(\"Q'  =\", Q_)\n",
        "    # print(\"S'  =\", S_)\n",
        "    # print(\"T'  =\", T_)\n",
        "    # print(\"V'  =\", V_)\n",
        "    # print(\"U'  =\", U_)\n",
        "    # print(\"t'  =\", t_)\n",
        "    # print(\"chi =\", chi)\n",
        "    print(\"lat =\", deg(lat),rad_to_dms(lat))\n",
        "    print(\"lon =\", deg(lon),rad_to_dms(lon))\n",
        "\n",
        "    return lat, lon\n"
      ],
      "metadata": {
        "id": "cIdxsyvzxWTl"
      },
      "execution_count": 33,
      "outputs": []
    },
    {
      "cell_type": "code",
      "source": [
        "# Given values from epsg web and doc\n",
        "a = 6377298.556\n",
        "e2 = 0.006637847\n",
        "# Compute eccentricity\n",
        "e = e2**(1/2)\n",
        "Pc = np.radians(4)\n",
        "Lc = np.radians(115)\n",
        "P  = 0.094025313\n",
        "L  = 2.021187362\n",
        "Ac = 0.930536611\n",
        "k0 = 0.99984\n",
        "Ec = 0\n",
        "Nc = 0\n",
        "\n",
        "B, A, t0, D, H, F, G, g0, L0, uc =  basic(Pc,Lc, Ac, k0, e, a)\n",
        "E,N,t,Q,S,T,V,U = fConst(Ec,Nc,e,A,B,H, P, L,g0,L0)\n",
        "lat, lon = rConst(E,N,Ec,Nc,g0, L0, A, B, H, e)"
      ],
      "metadata": {
        "colab": {
          "base_uri": "https://localhost:8080/"
        },
        "id": "7G35wwUNjPJt",
        "outputId": "7deb5db6-cbba-4b0f-add6-a02871db3ca6"
      },
      "execution_count": 36,
      "outputs": [
        {
          "output_type": "stream",
          "name": "stdout",
          "text": [
            "x 679245.7339646654\n",
            "y 596562.7859130147\n",
            "lat = 5.3872536022320565 (5, 23, 14)\n",
            "lon = 115.8055054477805 (115, 48, 19)\n"
          ]
        }
      ]
    }
  ]
}